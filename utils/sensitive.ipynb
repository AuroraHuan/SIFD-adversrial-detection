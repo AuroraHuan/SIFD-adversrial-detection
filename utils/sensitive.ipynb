{
 "cells": [
  {
   "cell_type": "code",
   "execution_count": 2,
   "metadata": {},
   "outputs": [],
   "source": [
    "\n",
    "from typing import Sized\n",
    "import warnings\n",
    "import os\n",
    "import torch\n",
    "import torch.nn as nn\n",
    "import json\n",
    "from torch.utils.data import DataLoader, SequentialSampler, TensorDataset\n",
    "from transformers import BertConfig, BertTokenizer\n",
    "from transformers import  BertForMaskedLM\n",
    "from tqdm import tqdm \n",
    "from torch.utils.data import TensorDataset, DataLoader, random_split \n",
    "from transformers import BertForSequenceClassification, AdamW \n",
    "from transformers import RobertaTokenizer, RobertaModel, RobertaConfig, RobertaForSequenceClassification\n",
    "from transformers import DebertaTokenizer, DebertaModel, DebertaConfig, DebertaForSequenceClassification\n",
    "from transformers import get_linear_schedule_with_warmup \n",
    "\n",
    "import copy\n",
    "import numpy as np \n",
    "from transformers import BertTokenizer, BertModel\n",
    "import torch\n",
    "import pickle\n",
    "import nltk\n",
    "os.environ['CUDA_VISIBLE_DEVICES']='1'"
   ]
  },
  {
   "cell_type": "code",
   "execution_count": 3,
   "metadata": {},
   "outputs": [
    {
     "name": "stderr",
     "output_type": "stream",
     "text": [
      "Some weights of the model checkpoint at bert-base-uncased were not used when initializing BertForSequenceClassification: ['cls.predictions.bias', 'cls.predictions.transform.dense.weight', 'cls.predictions.transform.dense.bias', 'cls.predictions.decoder.weight', 'cls.seq_relationship.weight', 'cls.seq_relationship.bias', 'cls.predictions.transform.LayerNorm.weight', 'cls.predictions.transform.LayerNorm.bias']\n",
      "- This IS expected if you are initializing BertForSequenceClassification from the checkpoint of a model trained on another task or with another architecture (e.g. initializing a BertForSequenceClassification model from a BertForPreTraining model).\n",
      "- This IS NOT expected if you are initializing BertForSequenceClassification from the checkpoint of a model that you expect to be exactly identical (initializing a BertForSequenceClassification model from a BertForSequenceClassification model).\n",
      "Some weights of BertForSequenceClassification were not initialized from the model checkpoint at bert-base-uncased and are newly initialized: ['classifier.weight', 'classifier.bias']\n",
      "You should probably TRAIN this model on a down-stream task to be able to use it for predictions and inference.\n"
     ]
    },
    {
     "data": {
      "text/plain": [
       "<All keys matched successfully>"
      ]
     },
     "execution_count": 3,
     "metadata": {},
     "output_type": "execute_result"
    }
   ],
   "source": [
    "tokenizer = BertTokenizer.from_pretrained('bert-base-uncased', do_lower_case=True)\n",
    "config = BertConfig.from_pretrained('bert-base-uncased', num_labels=2, output_attentions=False, output_hidden_states=False)\n",
    "model = BertForSequenceClassification.from_pretrained('bert-base-uncased', config=config)\n",
    "model.cuda()\n",
    "load_model_path = '/data/zhanghData/AttentionDefense/save_models/imdb_bert/base/best.pt'\n",
    "model.load_state_dict(torch.load(load_model_path))"
   ]
  },
  {
   "cell_type": "code",
   "execution_count": 19,
   "metadata": {},
   "outputs": [
    {
     "name": "stderr",
     "output_type": "stream",
     "text": [
      "Some weights of the model checkpoint at roberta-base were not used when initializing RobertaForSequenceClassification: ['lm_head.bias', 'lm_head.dense.weight', 'lm_head.dense.bias', 'lm_head.layer_norm.weight', 'lm_head.layer_norm.bias', 'lm_head.decoder.weight', 'roberta.pooler.dense.weight', 'roberta.pooler.dense.bias']\n",
      "- This IS expected if you are initializing RobertaForSequenceClassification from the checkpoint of a model trained on another task or with another architecture (e.g. initializing a BertForSequenceClassification model from a BertForPreTraining model).\n",
      "- This IS NOT expected if you are initializing RobertaForSequenceClassification from the checkpoint of a model that you expect to be exactly identical (initializing a BertForSequenceClassification model from a BertForSequenceClassification model).\n",
      "Some weights of RobertaForSequenceClassification were not initialized from the model checkpoint at roberta-base and are newly initialized: ['classifier.dense.weight', 'classifier.dense.bias', 'classifier.out_proj.weight', 'classifier.out_proj.bias']\n",
      "You should probably TRAIN this model on a down-stream task to be able to use it for predictions and inference.\n"
     ]
    },
    {
     "data": {
      "text/plain": [
       "<All keys matched successfully>"
      ]
     },
     "execution_count": 19,
     "metadata": {},
     "output_type": "execute_result"
    }
   ],
   "source": [
    "model_type = 'roberta-base'\n",
    "roberta_tokenizer = RobertaTokenizer.from_pretrained(model_type)\n",
    "roberta_config = RobertaConfig.from_pretrained(model_type, num_labels=2, output_attentions=False, output_hidden_states=False, \\\n",
    "                attention_probs_dropout_prob=0, hidden_dropout_prob=0.1)\n",
    "roberta = RobertaForSequenceClassification.from_pretrained(model_type, config=roberta_config) \n",
    "roberta.cuda()\n",
    "load_model_path = '/data/zhanghData/AttentionDefense/save_models/imdb_roberta/base/best.pt'\n",
    "roberta.load_state_dict(torch.load(load_model_path))"
   ]
  },
  {
   "cell_type": "code",
   "execution_count": 20,
   "metadata": {},
   "outputs": [],
   "source": [
    "def pre_tokenize(seq, tokenizer, use_MASK=False, mask_indices=[], max_length=0):\n",
    "    seq = seq.replace('\\n', '').lower()\n",
    "    words = seq.split(' ') \n",
    "    if use_MASK:\n",
    "        for idx in mask_indices:\n",
    "            words[idx] = '[MASK]'\n",
    "    sub_words =  []\n",
    "    keys = []\n",
    "    index = 0\n",
    "    if max_length == 0:\n",
    "        for word in words:\n",
    "            sub = tokenizer.tokenize(word)\n",
    "            sub_words += sub\n",
    "            keys.append([index, index + len(sub)])\n",
    "            index += len(sub)\n",
    "    else:\n",
    "        new_words =  []\n",
    "        for word in words:\n",
    "            sub = tokenizer.tokenize(word)\n",
    "            if len(sub_words)+len(sub) > max_length-2:\n",
    "                break\n",
    "            new_words.append(word)\n",
    "            sub_words += sub\n",
    "            keys.append([index, index + len(sub)])\n",
    "            index += len(sub)\n",
    "        words = new_words\n",
    "\n",
    "    if words[-1] =='':\n",
    "        words = words[:-1]\n",
    "        keys = keys[:-1]\n",
    "\n",
    "    return words, sub_words, keys"
   ]
  },
  {
   "cell_type": "code",
   "execution_count": 21,
   "metadata": {},
   "outputs": [
    {
     "name": "stdout",
     "output_type": "stream",
     "text": [
      "28301\n"
     ]
    }
   ],
   "source": [
    "from data_utils import get_pos_vocabulary, get_stopwords\n",
    "pos_vocabulary = get_pos_vocabulary()\n",
    "print(len(pos_vocabulary))\n",
    "stop_words = get_stopwords()\n",
    "#supported_pos_tags = get_supported_pos_tags()\n",
    "supported_pos_tags = [#nltk词性标注中的一些类别\n",
    "    #'CC',  # coordinating conjunction, like \"and but neither versus whether yet so\"  #并列连词\n",
    "    'JJ',  # Adjective, like \"second ill-mannered\" #组合式形容词\n",
    "    'JJR',  # Adjective, comparative, like \"colder\" #形容词比较级\n",
    "    'JJS',  # Adjective, superlative, like \"cheapest\" 形容词最高级\n",
    "    'NN',  # Noun, singular or mass #名词 单数\n",
    "    'NNS',  # Noun, plural #名词复数\n",
    "    'NNP',  # Proper noun, singular #专有名词单数\n",
    "    'NNPS',  # Proper noun, plural  #专有名词复数\n",
    "    'RB',  # Adverb#副词\n",
    "    'RBR',  # Adverb, comparative, like \"lower heavier\"\n",
    "    'RBS',  # Adverb, superlative, like \"best biggest\"\n",
    "    'VB',  # Verb, base form\n",
    "    'VBD',  # Verb, past tense 动词过去式\n",
    "    'VBG',  # Verb, gerund or present participle 动名词/现在分词\n",
    "    'VBN',  # Verb, past participle #过去分词\n",
    "    'VBP',  # Verb, non-3rd person singular present #非第三人称单数\n",
    "    'VBZ',  # Verb, 3rd person singular present #第三人称单数\n",
    "]"
   ]
  },
  {
   "cell_type": "code",
   "execution_count": 22,
   "metadata": {},
   "outputs": [],
   "source": [
    "##攻击文件导入\n",
    "from attack_instance import read_adv_files\n",
    "atk_path = '/data/zhanghData/AttentionDefense/save_results/attacks/imdb_roberta/base/pwws_0.1_100.csv'\n",
    "atk_instances = read_adv_files(atk_path)\n",
    "# all_orig_texts = [atk.orig_text for atk in atk_instances]\n",
    "# all_perd_texts = [atk.perd_text for atk in atk_instances]\n",
    "# all_gold_labels = [atk.ground for atk in atk_instances]\n",
    "# all_changed_indices = [atk.atk_indices for atk in atk_instances]\n",
    "# all_change_words = [atk.atk_changes for atk in atk_instances] "
   ]
  },
  {
   "cell_type": "code",
   "execution_count": 23,
   "metadata": {},
   "outputs": [],
   "source": [
    "def valid_select(words,sorted_words_idxs,vocabulary,stopwords):\n",
    "    candidates = [] \n",
    "    cand_indices  = []\n",
    "    for idx in sorted_words_idxs:\n",
    "        if words[idx] not in vocabulary:\n",
    "            #print(f\"{words[idx]} not in vocabulary\")\n",
    "            vocabulary[words[idx]] = nltk.pos_tag([words[idx]])[0][1]\n",
    "        if vocabulary[words[idx]] in supported_pos_tags and words[idx] not in stopwords:\n",
    "            candidates.append(words[idx])\n",
    "            cand_indices.append(idx)\n",
    "    return candidates, cand_indices"
   ]
  },
  {
   "cell_type": "code",
   "execution_count": 24,
   "metadata": {},
   "outputs": [],
   "source": [
    "def sensitive_test(words,idx,maxlength,tokenizer,model,device):\n",
    "    input_ids = tokenizer.encode(\n",
    "                    \" \".join(words[:idx]+'MASK'+words[idx+1:]),\n",
    "                    truncation=True,                       \n",
    "                    add_special_tokens = True,  # 添加special tokens， 也就是CLS和SEP\n",
    "                    max_length = maxlength,           # 设定最大文本长度 200 for IMDb and 40 for sst\n",
    "                    # pad_to_max_length = True,   # pad到最大的长度  \n",
    "                    padding = 'max_length',\n",
    "                    return_tensors = 'pt'       # 返回的类型为pytorch tensor\n",
    "                )\n",
    "    output = model(input_ids=input_ids.to(device), token_type_ids=None, \\\n",
    "                    attention_mask=(input_ids>0).to(device))\n",
    "    label= torch.argmax(output.logits[0])\n",
    "    return int(label)"
   ]
  },
  {
   "cell_type": "code",
   "execution_count": 25,
   "metadata": {},
   "outputs": [],
   "source": [
    "def create_mask(words,cand_ids,tokenizer,maxlength):\n",
    "    \n",
    "    all_input_ids  = []\n",
    "    for i in cand_ids:\n",
    "        text = copy.deepcopy(words)\n",
    "        text[i]='[MASK]'\n",
    "        input_ids = tokenizer.encode(\n",
    "                        \" \".join(text),\n",
    "                        truncation=True,                       \n",
    "                        add_special_tokens = True,  # 添加special tokens， 也就是CLS和SEP\n",
    "                        max_length = maxlength,           # 设定最大文本长度 200 for IMDb and 40 for sst\n",
    "                        # pad_to_max_length = True,   # pad到最大的长度  \n",
    "                        padding = 'max_length',\n",
    "                        return_tensors = 'pt'       # 返回的类型为pytorch tensor\n",
    "                    )\n",
    "        all_input_ids.append(input_ids)    \n",
    "    all_input_ids = torch.cat(all_input_ids, dim=0)\n",
    "    return all_input_ids\n"
   ]
  },
  {
   "cell_type": "code",
   "execution_count": 26,
   "metadata": {},
   "outputs": [],
   "source": [
    "\n",
    "def get_scores(output,re_outputs):\n",
    "    scores = []\n",
    "    label=torch.argmax(output)\n",
    "    label=int(label)\n",
    "    re_labels = torch.argmax(re_outputs)\n",
    "    # print(\"---------In get scores---------\")\n",
    "    # print(f'label:{label}')\n",
    "    # print(f\"mask labels:{torch.argmax(re_outputs,dim=1)}\")\n",
    "    confidence = torch.nn.functional.softmax(re_outputs)\n",
    "    #print(confidence)\n",
    "    for prob in confidence:\n",
    "        #scores.append(float(prob[int(label)]-prob[1-int(label)]))\n",
    "        scores.append(float(output[label]-prob[label]))\n",
    "    # print(scores)   \n",
    "    # print(\"---------endIn get scores---------\")\n",
    "    return scores,label,re_labels\n",
    "    #.detach().cpu().numpy()\n"
   ]
  },
  {
   "cell_type": "code",
   "execution_count": 30,
   "metadata": {},
   "outputs": [],
   "source": [
    "def words_sensitivity(\n",
    "    model,tokenizer, sentence,pos_vocabulary,stopwords,\n",
    "    max_length=40,batch_size=8\n",
    "    ):\n",
    "    device = torch.device('cuda')\n",
    "    model.eval()\n",
    "    words,sub_words,keys = pre_tokenize(sentence, tokenizer, use_MASK=False, max_length=max_length)\n",
    "    #print(\"words:{}\".format(words))\n",
    "    # print(\"keys:{}\".format(keys))\n",
    "    assert len(words) == len(keys)\n",
    "    input_words = ['[CLS]'] + sub_words + ['[SEP]']\n",
    "    input_ids = torch.tensor([tokenizer.convert_tokens_to_ids(input_words)])\n",
    "    assert len(sub_words) == (len(input_ids[0])-2)\n",
    "    outputs = model(input_ids.to(device), token_type_ids=None, attention_mask=(input_ids>0).to(device))\n",
    "    \n",
    "    #获取有效词，即只测试文本对有效词变化的敏感程度\n",
    "    candidates, cand_ids = valid_select(words,[i for i in range(len(words))],pos_vocabulary,stopwords)\n",
    "    mask_copies_ids = create_mask(words, cand_ids, tokenizer,max_length)\n",
    "    mask_dataloader = DataLoader(mask_copies_ids, batch_size = batch_size, shuffle = False)\n",
    "    logits = []\n",
    "    for i, batch in enumerate(mask_dataloader):\n",
    "            with torch.no_grad():\n",
    "                re_outputs = model(input_ids=batch.to(device), token_type_ids=None, \\\n",
    "                    attention_mask=(batch>0).to(device))\n",
    "                logits.append(re_outputs.logits)\n",
    "    logits = torch.cat(logits, dim=0)\n",
    "                # if i == 0:\n",
    "                #     logits = re_outputs.logits\n",
    "                # else:\n",
    "                #     logits.append(re_outputs.logits)\n",
    "            \n",
    "    #print(re_outputs)\n",
    "    scores,pre_label,re_labels = get_scores(outputs.logits[0],logits)\n",
    "    return  candidates,cand_ids,scores,pre_label,re_labels\n"
   ]
  },
  {
   "cell_type": "code",
   "execution_count": 32,
   "metadata": {},
   "outputs": [],
   "source": [
    "def sentence_sensitivity(model,tokenizer, sentence, label, pos_vocabulary,stopwords,\n",
    "    alpha=0.1, max_length=40,batch_size=8\n",
    "    ):\n",
    "    print(\"------In sentence sensitivity------\")\n",
    "    candidates,cand_ids,scores,pre_label,re_labels = words_sensitivity(\n",
    "                model,tokenizer, sentence, pos_vocabulary,stopwords,\n",
    "                max_length,batch_size)\n",
    "    print( \"label:{},pre_label:{}\".format(label,pre_label))\n",
    "    pre_acc_flag = 1 \n",
    "    sens_flag = 0\n",
    "    if label != pre_label:\n",
    "        pre_acc_flag = 0\n",
    "        return 0,0\n",
    "        \n",
    "    scores_labels_sorted_ = sorted(zip(scores,re_labels),key=lambda k:k[0], reverse=True)\n",
    "    print(scores_labels_sorted_)\n",
    "    if label != (sum(re_labels)/len(re_labels)>=0.5):\n",
    "        sens_flag = 1 \n",
    "    return pre_acc_flag,sens_flag\n"
   ]
  },
  {
   "cell_type": "code",
   "execution_count": 33,
   "metadata": {},
   "outputs": [
    {
     "name": "stdout",
     "output_type": "stream",
     "text": [
      "--------------------------------------------------------------------\n",
      "------In sentence sensitivity------\n"
     ]
    },
    {
     "name": "stderr",
     "output_type": "stream",
     "text": [
      "/home/zhangh/anaconda3/envs/defense/lib/python3.6/site-packages/ipykernel_launcher.py:9: UserWarning: Implicit dimension choice for softmax has been deprecated. Change the call to include dim=X as an argument.\n",
      "  if __name__ == '__main__':\n"
     ]
    },
    {
     "name": "stdout",
     "output_type": "stream",
     "text": [
      "label:0,pre_label:1\n",
      "error for predction!\n",
      "--------------------------------------------------------------------\n",
      "------In sentence sensitivity------\n",
      "label:0,pre_label:1\n",
      "error for predction!\n",
      "--------------------------------------------------------------------\n",
      "------In sentence sensitivity------\n",
      "label:1,pre_label:0\n",
      "error for predction!\n",
      "--------------------------------------------------------------------\n",
      "------In sentence sensitivity------\n",
      "label:0,pre_label:1\n",
      "error for predction!\n",
      "--------------------------------------------------------------------\n",
      "------In sentence sensitivity------\n",
      "label:1,pre_label:0\n",
      "error for predction!\n",
      "--------------------------------------------------------------------\n",
      "------In sentence sensitivity------\n",
      "label:0,pre_label:0\n"
     ]
    },
    {
     "ename": "TypeError",
     "evalue": "zip argument #2 must support iteration",
     "output_type": "error",
     "traceback": [
      "\u001b[0;31m---------------------------------------------------------------------------\u001b[0m",
      "\u001b[0;31mTypeError\u001b[0m                                 Traceback (most recent call last)",
      "\u001b[0;32m<ipython-input-33-d68b78024634>\u001b[0m in \u001b[0;36m<module>\u001b[0;34m\u001b[0m\n\u001b[1;32m     15\u001b[0m         \u001b[0msens_flag\u001b[0m \u001b[0;34m=\u001b[0m \u001b[0msentence_sensitivity\u001b[0m\u001b[0;31m\\\u001b[0m\u001b[0;34m\u001b[0m\u001b[0;34m\u001b[0m\u001b[0m\n\u001b[1;32m     16\u001b[0m                 (model,tokenizer, atk.perd_text, atk.perd_label,pos_vocabulary,stopwords=stop_words,\\\n\u001b[0;32m---> 17\u001b[0;31m                 alpha=0.1, max_length=200)\n\u001b[0m\u001b[1;32m     18\u001b[0m \u001b[0;34m\u001b[0m\u001b[0m\n\u001b[1;32m     19\u001b[0m         \u001b[0;31m# print(\"final important words and idx:{},{}\".format(candidate,cand_idx))\u001b[0m\u001b[0;34m\u001b[0m\u001b[0;34m\u001b[0m\u001b[0;34m\u001b[0m\u001b[0m\n",
      "\u001b[0;32m<ipython-input-32-1b1f7ff37389>\u001b[0m in \u001b[0;36msentence_sensitivity\u001b[0;34m(model, tokenizer, sentence, label, pos_vocabulary, stopwords, alpha, max_length, batch_size)\u001b[0m\n\u001b[1;32m     12\u001b[0m \u001b[0;34m\u001b[0m\u001b[0m\n\u001b[1;32m     13\u001b[0m     \u001b[0msens_flag\u001b[0m \u001b[0;34m=\u001b[0m \u001b[0;36m0\u001b[0m\u001b[0;34m\u001b[0m\u001b[0;34m\u001b[0m\u001b[0m\n\u001b[0;32m---> 14\u001b[0;31m     \u001b[0mscores_labels_sorted_\u001b[0m \u001b[0;34m=\u001b[0m \u001b[0msorted\u001b[0m\u001b[0;34m(\u001b[0m\u001b[0mzip\u001b[0m\u001b[0;34m(\u001b[0m\u001b[0mscores\u001b[0m\u001b[0;34m,\u001b[0m\u001b[0mre_labels\u001b[0m\u001b[0;34m)\u001b[0m\u001b[0;34m,\u001b[0m\u001b[0mkey\u001b[0m\u001b[0;34m=\u001b[0m\u001b[0;32mlambda\u001b[0m \u001b[0mk\u001b[0m\u001b[0;34m:\u001b[0m\u001b[0mk\u001b[0m\u001b[0;34m[\u001b[0m\u001b[0;36m0\u001b[0m\u001b[0;34m]\u001b[0m\u001b[0;34m,\u001b[0m \u001b[0mreverse\u001b[0m\u001b[0;34m=\u001b[0m\u001b[0;32mTrue\u001b[0m\u001b[0;34m)\u001b[0m\u001b[0;34m\u001b[0m\u001b[0;34m\u001b[0m\u001b[0m\n\u001b[0m\u001b[1;32m     15\u001b[0m     \u001b[0mprint\u001b[0m\u001b[0;34m(\u001b[0m\u001b[0mscores_labels_sorted_\u001b[0m\u001b[0;34m)\u001b[0m\u001b[0;34m\u001b[0m\u001b[0;34m\u001b[0m\u001b[0m\n\u001b[1;32m     16\u001b[0m     \u001b[0;32mif\u001b[0m \u001b[0mlabel\u001b[0m \u001b[0;34m!=\u001b[0m \u001b[0;34m(\u001b[0m\u001b[0msum\u001b[0m\u001b[0;34m(\u001b[0m\u001b[0mre_labels\u001b[0m\u001b[0;34m)\u001b[0m\u001b[0;34m/\u001b[0m\u001b[0mlen\u001b[0m\u001b[0;34m(\u001b[0m\u001b[0mre_labels\u001b[0m\u001b[0;34m)\u001b[0m\u001b[0;34m>=\u001b[0m\u001b[0;36m0.5\u001b[0m\u001b[0;34m)\u001b[0m\u001b[0;34m:\u001b[0m\u001b[0;34m\u001b[0m\u001b[0;34m\u001b[0m\u001b[0m\n",
      "\u001b[0;31mTypeError\u001b[0m: zip argument #2 must support iteration"
     ]
    }
   ],
   "source": [
    "sens_count = 0\n",
    "count = 0\n",
    "for atk in atk_instances:\n",
    "    #  self.suss = False\n",
    "    # self.skip = False\n",
    "    # self.fail = False\n",
    "    #print(f\"atk.perd_text[:-1]:{atk.perd_text[:-1]}\")\n",
    "    if atk.suss == True:\n",
    "        count +=1\n",
    "        print('--------------------------------------------------------------------')\n",
    "        # print(atk.perd_text)\n",
    "        # print(f\"atk.atk_changes:{atk.atk_changes,atk.atk_indices}\")\n",
    "\n",
    "        # print(f\"ture label:{atk.ground},attak label:{atk.perd_label}\")\n",
    "        pre_acc_flag,sens_flag = sentence_sensitivity\\\n",
    "                (model,tokenizer, atk.perd_text, atk.perd_label,pos_vocabulary,stopwords=stop_words,\\\n",
    "                alpha=0.1, max_length=200)\n",
    "        \n",
    "        # print(\"final important words and idx:{},{}\".format(candidate,cand_idx))\n",
    "        # print(f\"true label:{atk.ground}\")\n",
    "        sens_count+=sens_flag\n",
    "        \n",
    "print(\"coount:{},sence_coount:{}\".format(count,sens_count))\n",
    "print(\"{:2f}%\".format(sens_count/count*100))"
   ]
  },
  {
   "cell_type": "code",
   "execution_count": null,
   "metadata": {},
   "outputs": [],
   "source": [
    "    # #scores=scores\n",
    "    # attk_flag = 1\n",
    "    # if pre_labbel != label:\n",
    "    #     attk_flag = 0\n",
    "    \n",
    "    # assert len(words) == len(scores)\n",
    "    # #print('------sorting------')\n",
    "    # # for k,value in zip(words,scores):\n",
    "    # #     print(f\"({k},{value})\")\n",
    "    # sorted_words = sorted(zip(words, scores),key=lambda x:x[1], reverse=True)\n",
    "    # #print(f\"sorted_words:{sorted_words}\")\n",
    "    # sorted_ = sorted(enumerate(scores),key=lambda x:x[1], reverse=False)\n",
    "    # sorted_words_idxs = [i[0] for i in sorted_]\n",
    "    # candidates, cand_idx = valid_select(words,sorted_words_idxs,pos_vocabulary,stopwords)\n",
    "    # #print(\"After valid:{}\".format(candidates))\n",
    "    # result_num = max(min(len(candidates),int(alpha*len(words))),1)\n",
    "    \n",
    "    # label_sensitive = sensitive_test(words,cand_idx[0],max_length,tokenizer,model,device)\n",
    "    # sens_flag  = 0\n",
    "    # if (pre_labbel!=label_sensitive):\n",
    "    #     sens_flag =1\n",
    "    # return candidates[:2], cand_idx[:2],sens_flag , attk_flag\n",
    "    # #        sorted_subs = sorted(zip(all_subs_indices,all_sub_scores),key=lambda x:x[1], reverse=True)"
   ]
  },
  {
   "cell_type": "code",
   "execution_count": 1,
   "metadata": {},
   "outputs": [
    {
     "ename": "NameError",
     "evalue": "name 'atk_instances' is not defined",
     "output_type": "error",
     "traceback": [
      "\u001b[0;31m---------------------------------------------------------------------------\u001b[0m",
      "\u001b[0;31mNameError\u001b[0m                                 Traceback (most recent call last)",
      "\u001b[0;32m<ipython-input-1-6c7d41092719>\u001b[0m in \u001b[0;36m<module>\u001b[0;34m\u001b[0m\n\u001b[1;32m      7\u001b[0m \u001b[0msuss_count\u001b[0m \u001b[0;34m=\u001b[0m \u001b[0;36m0\u001b[0m\u001b[0;34m\u001b[0m\u001b[0;34m\u001b[0m\u001b[0m\n\u001b[1;32m      8\u001b[0m \u001b[0mattk_count\u001b[0m \u001b[0;34m=\u001b[0m \u001b[0;36m0\u001b[0m\u001b[0;34m\u001b[0m\u001b[0;34m\u001b[0m\u001b[0m\n\u001b[0;32m----> 9\u001b[0;31m \u001b[0;32mfor\u001b[0m \u001b[0matk\u001b[0m \u001b[0;32min\u001b[0m \u001b[0matk_instances\u001b[0m\u001b[0;34m:\u001b[0m\u001b[0;34m\u001b[0m\u001b[0;34m\u001b[0m\u001b[0m\n\u001b[0m\u001b[1;32m     10\u001b[0m     \u001b[0;31m#  self.suss = False\u001b[0m\u001b[0;34m\u001b[0m\u001b[0;34m\u001b[0m\u001b[0;34m\u001b[0m\u001b[0m\n\u001b[1;32m     11\u001b[0m     \u001b[0;31m# self.skip = False\u001b[0m\u001b[0;34m\u001b[0m\u001b[0;34m\u001b[0m\u001b[0;34m\u001b[0m\u001b[0m\n",
      "\u001b[0;31mNameError\u001b[0m: name 'atk_instances' is not defined"
     ]
    }
   ],
   "source": [
    "count_change = 0\n",
    "count_candidate = 0\n",
    "count_recall = 0\n",
    "#count_acc = 0\n",
    "sens_count = 0\n",
    "count = 0\n",
    "suss_count = 0\n",
    "attk_count = 0\n",
    "for atk in atk_instances:\n",
    "    #  self.suss = False\n",
    "    # self.skip = False\n",
    "    # self.fail = False\n",
    "    #print(f\"atk.perd_text[:-1]:{atk.perd_text[:-1]}\")\n",
    "    if atk.suss == True:\n",
    "        count +=1\n",
    "        print('--------------------------------------------------------------------')\n",
    "        # print(atk.perd_text)\n",
    "        # print(f\"atk.atk_changes:{atk.atk_changes,atk.atk_indices}\")\n",
    "\n",
    "        # print(f\"ture label:{atk.ground},attak label:{atk.perd_label}\")\n",
    "        candidate, cand_idx,sens_flag,attk_flag = get_importance_words\\\n",
    "                (model,tokenizer, atk.perd_text, atk.perd_label,pos_vocabulary,stopwords=stop_words,\\\n",
    "                alpha=0.1, max_length=200)\n",
    "        \n",
    "        # print(\"final important words and idx:{},{}\".format(candidate,cand_idx))\n",
    "        # print(f\"true label:{atk.ground}\")\n",
    "        count_change += len(atk.atk_changes)\n",
    "        count_candidate +=  len(candidate)\n",
    "        recall = sum([ idx in cand_idx  for idx in atk.atk_indices])\n",
    "        if recall == 0:\n",
    "                \n",
    "                print(atk.perd_text)\n",
    "                print(f\"atk.atk_changes:{atk.atk_changes,atk.atk_indices}\")\n",
    "\n",
    "                print(f\"ture label:{atk.ground},attak label:{atk.perd_label}\")\n",
    "                print(\"final important words and idx:{},{}\".format(candidate,cand_idx))\n",
    "                print(f\"true label:{atk.ground}\")\n",
    "        print(f\"If sensitive:{sens_flag}\")\n",
    "        print(f\"If attack always:{attk_flag}\")\n",
    "        if sens_flag==1 and attk_flag==1:\n",
    "                suss_count +=1\n",
    "        count_recall +=recall\n",
    "        sens_count+=sens_flag\n",
    "        attk_count += attk_flag\n",
    "        \n",
    "acc = count_recall/count_candidate\n",
    "recall =count_recall/count_change\n",
    "print(\"acc:{},recall:{}\".format(acc,recall))\n",
    "print(sens_count)\n",
    "print(count)"
   ]
  },
  {
   "cell_type": "code",
   "execution_count": 37,
   "metadata": {},
   "outputs": [
    {
     "ename": "SyntaxError",
     "evalue": "invalid syntax (<ipython-input-37-e3ef757ecb7f>, line 1)",
     "output_type": "error",
     "traceback": [
      "\u001b[0;36m  File \u001b[0;32m\"<ipython-input-37-e3ef757ecb7f>\"\u001b[0;36m, line \u001b[0;32m1\u001b[0m\n\u001b[0;31m    x!\u001b[0m\n\u001b[0m     ^\u001b[0m\n\u001b[0;31mSyntaxError\u001b[0m\u001b[0;31m:\u001b[0m invalid syntax\n"
     ]
    }
   ],
   "source": [
    "x!"
   ]
  },
  {
   "cell_type": "code",
   "execution_count": null,
   "metadata": {},
   "outputs": [],
   "source": []
  },
  {
   "cell_type": "code",
   "execution_count": null,
   "metadata": {},
   "outputs": [],
   "source": []
  },
  {
   "cell_type": "markdown",
   "metadata": {},
   "source": [
    "#### adversarial examples  softmax分布情况"
   ]
  },
  {
   "cell_type": "code",
   "execution_count": 13,
   "metadata": {},
   "outputs": [],
   "source": [
    "def atk_logits(model,tokenizer):\n",
    "        logits = []\n",
    "        device = torch.device('cuda')\n",
    "        model.eval()\n",
    "        maxlength=40\n",
    "        for atk in atk_instances:\n",
    "        #  self.suss = False\n",
    "        # self.skip = False\n",
    "        # self.fail = False\n",
    "                if atk.suss == True:\n",
    "                        input_ids = tokenizer.encode(\n",
    "                                atk.perd_text,\n",
    "                                truncation=True,                       \n",
    "                                add_special_tokens = True,  # 添加special tokens， 也就是CLS和SEP\n",
    "                                max_length = maxlength,           # 设定最大文本长度 200 for IMDb and 40 for sst\n",
    "                                # pad_to_max_length = True,   # pad到最大的长度  \n",
    "                                padding = 'max_length',\n",
    "                                return_tensors = 'pt'       # 返回的类型为pytorch tensor\n",
    "                                )\n",
    "                        output = model(input_ids=input_ids.to(device), token_type_ids=None, \\\n",
    "                                        attention_mask=(input_ids>0).to(device))\n",
    "                        confidence = torch.nn.functional.softmax(output.logits[0])\n",
    "                        logits.append(confidence.detach().cpu().numpy())\n",
    "        return logits"
   ]
  },
  {
   "cell_type": "code",
   "execution_count": 27,
   "metadata": {},
   "outputs": [
    {
     "name": "stderr",
     "output_type": "stream",
     "text": [
      "/home/zhangh/anaconda3/envs/defense/lib/python3.6/site-packages/ipykernel_launcher.py:22: UserWarning: Implicit dimension choice for softmax has been deprecated. Change the call to include dim=X as an argument.\n"
     ]
    }
   ],
   "source": [
    "logits = atk_logits(model,tokenizer)"
   ]
  },
  {
   "cell_type": "code",
   "execution_count": 33,
   "metadata": {},
   "outputs": [
    {
     "data": {
      "image/png": "[encoded data removed]",
      "text/plain": [
       "<Figure size 432x288 with 1 Axes>"
      ]
     },
     "metadata": {
      "needs_background": "light"
     },
     "output_type": "display_data"
    }
   ],
   "source": [
    "import matplotlib.pyplot as plt\n",
    "import seaborn as sns\n",
    "import numpy as np\n",
    "import pandas as pd\n",
    "import matplotlib.pyplot as plt\n",
    "# 数据准备\n",
    "N = 1000\n",
    "y1 = np.array([logit[0] for logit in logits])\n",
    "x = np.arange(len(y1)+1)[1:]\n",
    "# 用Matplotlib画散点图\n",
    "plt.scatter(x, y1,marker='x')\n",
    "plt.show()\n"
   ]
  },
  {
   "cell_type": "code",
   "execution_count": 29,
   "metadata": {},
   "outputs": [
    {
     "name": "stderr",
     "output_type": "stream",
     "text": [
      "/home/zhangh/anaconda3/envs/defense/lib/python3.6/site-packages/ipykernel_launcher.py:22: UserWarning: Implicit dimension choice for softmax has been deprecated. Change the call to include dim=X as an argument.\n"
     ]
    }
   ],
   "source": [
    "rob_logits = atk_logits(roberta, roberta_tokenizer)"
   ]
  },
  {
   "cell_type": "code",
   "execution_count": 42,
   "metadata": {},
   "outputs": [
    {
     "data": {
      "text/plain": [
       "array([0.9098301 , 0.09016994], dtype=float32)"
      ]
     },
     "execution_count": 42,
     "metadata": {},
     "output_type": "execute_result"
    }
   ],
   "source": [
    "rob_logits[1]"
   ]
  },
  {
   "cell_type": "code",
   "execution_count": 44,
   "metadata": {},
   "outputs": [],
   "source": [
    "idx = 1\n",
    "indices = []\n",
    "for logit1,logit2 in zip(logits,rob_logits):\n",
    "    #print(max(logit1),max(logit2))\n",
    "    if np.argmax(logit1)==np.argmax(logit2):\n",
    "        indices.append(idx)\n",
    "    idx+=1\n"
   ]
  },
  {
   "cell_type": "code",
   "execution_count": 45,
   "metadata": {},
   "outputs": [
    {
     "data": {
      "text/plain": [
       "212"
      ]
     },
     "execution_count": 45,
     "metadata": {},
     "output_type": "execute_result"
    }
   ],
   "source": [
    "len(indices)\n"
   ]
  },
  {
   "cell_type": "code",
   "execution_count": 34,
   "metadata": {},
   "outputs": [
    {
     "data": {
      "image/png": "[encoded data removed]",
      "text/plain": [
       "<Figure size 432x288 with 1 Axes>"
      ]
     },
     "metadata": {
      "needs_background": "light"
     },
     "output_type": "display_data"
    }
   ],
   "source": [
    "\n",
    "# 数据准备\n",
    "N = 1000\n",
    "y2 = np.array([logit[0] for logit in rob_logits])\n",
    "x = np.arange(len(y2)+1)[1:]\n",
    "# 用Matplotlib画散点图\n",
    "plt.scatter(x, y2,marker='x')\n",
    "plt.show()"
   ]
  },
  {
   "cell_type": "code",
   "execution_count": 54,
   "metadata": {},
   "outputs": [
    {
     "data": {
      "image/png": "[encoded data removed]",
      "text/plain": [
       "<Figure size 432x288 with 1 Axes>"
      ]
     },
     "metadata": {
      "needs_background": "light"
     },
     "output_type": "display_data"
    }
   ],
   "source": [
    "from scipy.io import loadmat\n",
    "import numpy as np\n",
    "import matplotlib.pyplot as plt\n",
    "#data  = loadmat(r'C:\\Users\\Desktop\\fourclass.mat')['data']\n",
    " # 创建画布\n",
    "fig = plt.figure()\n",
    "ax = fig.add_subplot(111)\n",
    "p1 = ax.scatter(x, y1, marker='.', color='black', s=10)\n",
    "#p2 = ax.scatter(x, y2, marker='.', color='green', s=8)\n",
    "x3 = indices\n",
    "y3 = [y2[idx-1] for idx in indices]\n",
    "p3 = ax.scatter(x3, y3, marker='.', color='red', s=12)\n",
    "plt.show()\n"
   ]
  },
  {
   "cell_type": "code",
   "execution_count": 56,
   "metadata": {},
   "outputs": [
    {
     "data": {
      "image/png": "[encoded data removed]",
      "text/plain": [
       "<Figure size 432x288 with 1 Axes>"
      ]
     },
     "metadata": {
      "needs_background": "light"
     },
     "output_type": "display_data"
    }
   ],
   "source": [
    "from scipy.io import loadmat\n",
    "import numpy as np\n",
    "import matplotlib.pyplot as plt\n",
    "#data  = loadmat(r'C:\\Users\\Desktop\\fourclass.mat')['data']\n",
    " # 创建画布\n",
    "fig = plt.figure()\n",
    "ax = fig.add_subplot(111)\n",
    "p1 = ax.scatter(y1, x, marker='.', color='black', s=10)\n",
    "#p2 = ax.scatter(x, y2, marker='.', color='green', s=8)\n",
    "x3 = indices\n",
    "y3 = [y2[idx-1] for idx in indices]\n",
    "p3 = ax.scatter(y3, x3, marker='.', color='red', s=12)\n",
    "plt.show()\n"
   ]
  },
  {
   "cell_type": "code",
   "execution_count": null,
   "metadata": {},
   "outputs": [],
   "source": []
  }
 ],
 "metadata": {
  "interpreter": {
   "hash": "21a3d357b98ac7685015af18f21083f1b9afddeabab55ab3c0b23492acc2baa4"
  },
  "kernelspec": {
   "display_name": "Python 3.6.13 ('defense')",
   "language": "python",
   "name": "python3"
  },
  "language_info": {
   "codemirror_mode": {
    "name": "ipython",
    "version": 3
   },
   "file_extension": ".py",
   "mimetype": "text/x-python",
   "name": "python",
   "nbconvert_exporter": "python",
   "pygments_lexer": "ipython3",
   "version": "3.6.13"
  },
  "orig_nbformat": 4
 },
 "nbformat": 4,
 "nbformat_minor": 2
}
